{
  "nbformat": 4,
  "nbformat_minor": 0,
  "metadata": {
    "colab": {
      "name": "midterm_05.04.2022.ipynb",
      "provenance": []
    },
    "kernelspec": {
      "name": "python3",
      "display_name": "Python 3"
    },
    "language_info": {
      "name": "python"
    }
  },
  "cells": [
    {
      "cell_type": "code",
      "execution_count": 3,
      "metadata": {
        "id": "Wc60FR7gY6M9"
      },
      "outputs": [],
      "source": [
        "import matplotlib.pyplot as plt\n",
        "import requests\n",
        "import json\n",
        "import os\n",
        "import pandas as pd\n",
        "import numpy as np\n",
        "from bs4 import BeautifulSoup\n"
      ]
    },
    {
      "cell_type": "code",
      "source": [
        "\n",
        "import requests\n",
        "import json\n",
        "url = 'https://ies-midterm.soulution.rocks/saveme'\n",
        "\n",
        "\n",
        "x=requests.post('https://ies-midterm.soulution.rocks/saveme', json={'cuni':'60026825'})\n",
        "\n",
        "print(x.text)"
      ],
      "metadata": {
        "colab": {
          "base_uri": "https://localhost:8080/"
        },
        "id": "HkaYVV9_aZx6",
        "outputId": "8c281a6d-c72c-48e4-eaf4-fe7427a886f1"
      },
      "execution_count": 36,
      "outputs": [
        {
          "output_type": "stream",
          "name": "stdout",
          "text": [
            "{\"data\": {}, \"message\": \"DO NOT SHARE THE DATASET WITH ANYONE! Download manually the following file which contains the data: https://ies-python-midterm.s3.eu-central-1.amazonaws.com/sos.zip\"}\n"
          ]
        }
      ]
    },
    {
      "cell_type": "code",
      "source": [
        "data1 = pd.read_csv(\"EVR[1].csv\")\n",
        "data2 = pd.read_csv(\"FLTR[1].csv\")\n"
      ],
      "metadata": {
        "colab": {
          "base_uri": "https://localhost:8080/",
          "height": 423
        },
        "id": "tYVI2GR8tcUb",
        "outputId": "f4ffe0ea-99de-4136-957c-b69058908ecc"
      },
      "execution_count": 40,
      "outputs": [
        {
          "output_type": "execute_result",
          "data": {
            "text/plain": [
              "           Date       Open       High    Low      Close  Adj Close  Volume\n",
              "0    2019-01-02  24.680000  24.750000  24.68  24.709999  23.635632   89800\n",
              "1    2019-01-03  24.690001  24.740000  24.68  24.680000  23.606937  175700\n",
              "2    2019-01-04  24.650000  24.709999  24.65  24.709999  23.635632  473800\n",
              "3    2019-01-07  24.670000  24.709999  24.67  24.709999  23.635632   85800\n",
              "4    2019-01-08  24.670000  24.719999  24.67  24.709999  23.635632  114500\n",
              "..          ...        ...        ...    ...        ...        ...     ...\n",
              "473  2020-11-16  25.240000  25.250000  25.23  25.240000  25.240000  206700\n",
              "474  2020-11-17  25.230000  25.270000  25.23  25.270000  25.270000  434900\n",
              "475  2020-11-18  25.250000  25.270000  25.24  25.270000  25.270000  473100\n",
              "476  2020-11-19  25.270000  25.290001  25.24  25.280001  25.280001  567600\n",
              "477  2020-11-20  25.290001  25.290001  25.24  25.250000  25.250000  305600\n",
              "\n",
              "[478 rows x 7 columns]"
            ],
            "text/html": [
              "\n",
              "  <div id=\"df-bcae2ea0-c061-4dc7-92c4-a0a25780a68b\">\n",
              "    <div class=\"colab-df-container\">\n",
              "      <div>\n",
              "<style scoped>\n",
              "    .dataframe tbody tr th:only-of-type {\n",
              "        vertical-align: middle;\n",
              "    }\n",
              "\n",
              "    .dataframe tbody tr th {\n",
              "        vertical-align: top;\n",
              "    }\n",
              "\n",
              "    .dataframe thead th {\n",
              "        text-align: right;\n",
              "    }\n",
              "</style>\n",
              "<table border=\"1\" class=\"dataframe\">\n",
              "  <thead>\n",
              "    <tr style=\"text-align: right;\">\n",
              "      <th></th>\n",
              "      <th>Date</th>\n",
              "      <th>Open</th>\n",
              "      <th>High</th>\n",
              "      <th>Low</th>\n",
              "      <th>Close</th>\n",
              "      <th>Adj Close</th>\n",
              "      <th>Volume</th>\n",
              "    </tr>\n",
              "  </thead>\n",
              "  <tbody>\n",
              "    <tr>\n",
              "      <th>0</th>\n",
              "      <td>2019-01-02</td>\n",
              "      <td>24.680000</td>\n",
              "      <td>24.750000</td>\n",
              "      <td>24.68</td>\n",
              "      <td>24.709999</td>\n",
              "      <td>23.635632</td>\n",
              "      <td>89800</td>\n",
              "    </tr>\n",
              "    <tr>\n",
              "      <th>1</th>\n",
              "      <td>2019-01-03</td>\n",
              "      <td>24.690001</td>\n",
              "      <td>24.740000</td>\n",
              "      <td>24.68</td>\n",
              "      <td>24.680000</td>\n",
              "      <td>23.606937</td>\n",
              "      <td>175700</td>\n",
              "    </tr>\n",
              "    <tr>\n",
              "      <th>2</th>\n",
              "      <td>2019-01-04</td>\n",
              "      <td>24.650000</td>\n",
              "      <td>24.709999</td>\n",
              "      <td>24.65</td>\n",
              "      <td>24.709999</td>\n",
              "      <td>23.635632</td>\n",
              "      <td>473800</td>\n",
              "    </tr>\n",
              "    <tr>\n",
              "      <th>3</th>\n",
              "      <td>2019-01-07</td>\n",
              "      <td>24.670000</td>\n",
              "      <td>24.709999</td>\n",
              "      <td>24.67</td>\n",
              "      <td>24.709999</td>\n",
              "      <td>23.635632</td>\n",
              "      <td>85800</td>\n",
              "    </tr>\n",
              "    <tr>\n",
              "      <th>4</th>\n",
              "      <td>2019-01-08</td>\n",
              "      <td>24.670000</td>\n",
              "      <td>24.719999</td>\n",
              "      <td>24.67</td>\n",
              "      <td>24.709999</td>\n",
              "      <td>23.635632</td>\n",
              "      <td>114500</td>\n",
              "    </tr>\n",
              "    <tr>\n",
              "      <th>...</th>\n",
              "      <td>...</td>\n",
              "      <td>...</td>\n",
              "      <td>...</td>\n",
              "      <td>...</td>\n",
              "      <td>...</td>\n",
              "      <td>...</td>\n",
              "      <td>...</td>\n",
              "    </tr>\n",
              "    <tr>\n",
              "      <th>473</th>\n",
              "      <td>2020-11-16</td>\n",
              "      <td>25.240000</td>\n",
              "      <td>25.250000</td>\n",
              "      <td>25.23</td>\n",
              "      <td>25.240000</td>\n",
              "      <td>25.240000</td>\n",
              "      <td>206700</td>\n",
              "    </tr>\n",
              "    <tr>\n",
              "      <th>474</th>\n",
              "      <td>2020-11-17</td>\n",
              "      <td>25.230000</td>\n",
              "      <td>25.270000</td>\n",
              "      <td>25.23</td>\n",
              "      <td>25.270000</td>\n",
              "      <td>25.270000</td>\n",
              "      <td>434900</td>\n",
              "    </tr>\n",
              "    <tr>\n",
              "      <th>475</th>\n",
              "      <td>2020-11-18</td>\n",
              "      <td>25.250000</td>\n",
              "      <td>25.270000</td>\n",
              "      <td>25.24</td>\n",
              "      <td>25.270000</td>\n",
              "      <td>25.270000</td>\n",
              "      <td>473100</td>\n",
              "    </tr>\n",
              "    <tr>\n",
              "      <th>476</th>\n",
              "      <td>2020-11-19</td>\n",
              "      <td>25.270000</td>\n",
              "      <td>25.290001</td>\n",
              "      <td>25.24</td>\n",
              "      <td>25.280001</td>\n",
              "      <td>25.280001</td>\n",
              "      <td>567600</td>\n",
              "    </tr>\n",
              "    <tr>\n",
              "      <th>477</th>\n",
              "      <td>2020-11-20</td>\n",
              "      <td>25.290001</td>\n",
              "      <td>25.290001</td>\n",
              "      <td>25.24</td>\n",
              "      <td>25.250000</td>\n",
              "      <td>25.250000</td>\n",
              "      <td>305600</td>\n",
              "    </tr>\n",
              "  </tbody>\n",
              "</table>\n",
              "<p>478 rows × 7 columns</p>\n",
              "</div>\n",
              "      <button class=\"colab-df-convert\" onclick=\"convertToInteractive('df-bcae2ea0-c061-4dc7-92c4-a0a25780a68b')\"\n",
              "              title=\"Convert this dataframe to an interactive table.\"\n",
              "              style=\"display:none;\">\n",
              "        \n",
              "  <svg xmlns=\"http://www.w3.org/2000/svg\" height=\"24px\"viewBox=\"0 0 24 24\"\n",
              "       width=\"24px\">\n",
              "    <path d=\"M0 0h24v24H0V0z\" fill=\"none\"/>\n",
              "    <path d=\"M18.56 5.44l.94 2.06.94-2.06 2.06-.94-2.06-.94-.94-2.06-.94 2.06-2.06.94zm-11 1L8.5 8.5l.94-2.06 2.06-.94-2.06-.94L8.5 2.5l-.94 2.06-2.06.94zm10 10l.94 2.06.94-2.06 2.06-.94-2.06-.94-.94-2.06-.94 2.06-2.06.94z\"/><path d=\"M17.41 7.96l-1.37-1.37c-.4-.4-.92-.59-1.43-.59-.52 0-1.04.2-1.43.59L10.3 9.45l-7.72 7.72c-.78.78-.78 2.05 0 2.83L4 21.41c.39.39.9.59 1.41.59.51 0 1.02-.2 1.41-.59l7.78-7.78 2.81-2.81c.8-.78.8-2.07 0-2.86zM5.41 20L4 18.59l7.72-7.72 1.47 1.35L5.41 20z\"/>\n",
              "  </svg>\n",
              "      </button>\n",
              "      \n",
              "  <style>\n",
              "    .colab-df-container {\n",
              "      display:flex;\n",
              "      flex-wrap:wrap;\n",
              "      gap: 12px;\n",
              "    }\n",
              "\n",
              "    .colab-df-convert {\n",
              "      background-color: #E8F0FE;\n",
              "      border: none;\n",
              "      border-radius: 50%;\n",
              "      cursor: pointer;\n",
              "      display: none;\n",
              "      fill: #1967D2;\n",
              "      height: 32px;\n",
              "      padding: 0 0 0 0;\n",
              "      width: 32px;\n",
              "    }\n",
              "\n",
              "    .colab-df-convert:hover {\n",
              "      background-color: #E2EBFA;\n",
              "      box-shadow: 0px 1px 2px rgba(60, 64, 67, 0.3), 0px 1px 3px 1px rgba(60, 64, 67, 0.15);\n",
              "      fill: #174EA6;\n",
              "    }\n",
              "\n",
              "    [theme=dark] .colab-df-convert {\n",
              "      background-color: #3B4455;\n",
              "      fill: #D2E3FC;\n",
              "    }\n",
              "\n",
              "    [theme=dark] .colab-df-convert:hover {\n",
              "      background-color: #434B5C;\n",
              "      box-shadow: 0px 1px 3px 1px rgba(0, 0, 0, 0.15);\n",
              "      filter: drop-shadow(0px 1px 2px rgba(0, 0, 0, 0.3));\n",
              "      fill: #FFFFFF;\n",
              "    }\n",
              "  </style>\n",
              "\n",
              "      <script>\n",
              "        const buttonEl =\n",
              "          document.querySelector('#df-bcae2ea0-c061-4dc7-92c4-a0a25780a68b button.colab-df-convert');\n",
              "        buttonEl.style.display =\n",
              "          google.colab.kernel.accessAllowed ? 'block' : 'none';\n",
              "\n",
              "        async function convertToInteractive(key) {\n",
              "          const element = document.querySelector('#df-bcae2ea0-c061-4dc7-92c4-a0a25780a68b');\n",
              "          const dataTable =\n",
              "            await google.colab.kernel.invokeFunction('convertToInteractive',\n",
              "                                                     [key], {});\n",
              "          if (!dataTable) return;\n",
              "\n",
              "          const docLinkHtml = 'Like what you see? Visit the ' +\n",
              "            '<a target=\"_blank\" href=https://colab.research.google.com/notebooks/data_table.ipynb>data table notebook</a>'\n",
              "            + ' to learn more about interactive tables.';\n",
              "          element.innerHTML = '';\n",
              "          dataTable['output_type'] = 'display_data';\n",
              "          await google.colab.output.renderOutput(dataTable, element);\n",
              "          const docLink = document.createElement('div');\n",
              "          docLink.innerHTML = docLinkHtml;\n",
              "          element.appendChild(docLink);\n",
              "        }\n",
              "      </script>\n",
              "    </div>\n",
              "  </div>\n",
              "  "
            ]
          },
          "metadata": {},
          "execution_count": 40
        }
      ]
    },
    {
      "cell_type": "markdown",
      "source": [
        "What day was the highest number of shares traded?"
      ],
      "metadata": {
        "id": "IneAxLEWuGJl"
      }
    },
    {
      "cell_type": "code",
      "source": [
        "first=data1.loc[data1['Volume'].idxmax()]\n",
        "second=data2.loc[data1['Volume'].idxmax()]\n",
        "second\n"
      ],
      "metadata": {
        "colab": {
          "base_uri": "https://localhost:8080/"
        },
        "id": "_7eTYh5NuIgb",
        "outputId": "1d7c09cf-7146-40db-cd4a-ef8b0b5d274e"
      },
      "execution_count": 44,
      "outputs": [
        {
          "output_type": "execute_result",
          "data": {
            "text/plain": [
              "Date         2019-01-30\n",
              "Open               25.0\n",
              "High          25.030001\n",
              "Low               24.99\n",
              "Close             25.02\n",
              "Adj Close     23.932154\n",
              "Volume           264000\n",
              "Name: 19, dtype: object"
            ]
          },
          "metadata": {},
          "execution_count": 44
        }
      ]
    },
    {
      "cell_type": "markdown",
      "source": [
        ""
      ],
      "metadata": {
        "id": "Hz-wTdTzveEl"
      }
    },
    {
      "cell_type": "markdown",
      "source": [
        "The date is 2019-01-30"
      ],
      "metadata": {
        "id": "2ZQxypF1vDe_"
      }
    },
    {
      "cell_type": "markdown",
      "source": [
        "The time series should be from 2019-01-02 to 2020-11-20. Is it the case in your sample?\n",
        "Which dates are missing"
      ],
      "metadata": {
        "id": "YJeJSLHvv_1H"
      }
    },
    {
      "cell_type": "code",
      "source": [
        "pd.date_range(start = '2019-01-02', end = '2020-11-20' ).difference(data1.index)"
      ],
      "metadata": {
        "colab": {
          "base_uri": "https://localhost:8080/"
        },
        "id": "iYUd5oN6wEh3",
        "outputId": "bfd1d245-63e6-4306-b214-a247ee264315"
      },
      "execution_count": 53,
      "outputs": [
        {
          "output_type": "execute_result",
          "data": {
            "text/plain": [
              "DatetimeIndex(['2019-01-02', '2019-01-03', '2019-01-04', '2019-01-05',\n",
              "               '2019-01-06', '2019-01-07', '2019-01-08', '2019-01-09',\n",
              "               '2019-01-10', '2019-01-11',\n",
              "               ...\n",
              "               '2020-11-11', '2020-11-12', '2020-11-13', '2020-11-14',\n",
              "               '2020-11-15', '2020-11-16', '2020-11-17', '2020-11-18',\n",
              "               '2020-11-19', '2020-11-20'],\n",
              "              dtype='datetime64[ns]', length=689, freq='D')"
            ]
          },
          "metadata": {},
          "execution_count": 53
        }
      ]
    },
    {
      "cell_type": "markdown",
      "source": [
        "What is the highest and lowest Adj Close price the company recorded"
      ],
      "metadata": {
        "id": "83X4A8b0w9Xb"
      }
    },
    {
      "cell_type": "code",
      "source": [
        "first=data1.loc[data1['Adj Close'].idxmax()]\n",
        "first\n"
      ],
      "metadata": {
        "colab": {
          "base_uri": "https://localhost:8080/"
        },
        "id": "D_5g1VRbw_P0",
        "outputId": "c76cb853-eede-4348-ec40-652f2fb57778"
      },
      "execution_count": 54,
      "outputs": [
        {
          "output_type": "execute_result",
          "data": {
            "text/plain": [
              "Date         2019-04-29\n",
              "Open          97.330002\n",
              "High          98.900002\n",
              "Low           96.800003\n",
              "Close         98.019997\n",
              "Adj Close     93.306076\n",
              "Volume           344400\n",
              "Name: 80, dtype: object"
            ]
          },
          "metadata": {},
          "execution_count": 54
        }
      ]
    },
    {
      "cell_type": "code",
      "source": [
        "first=data1.loc[data1['Adj Close'].idxmin()]\n",
        "first"
      ],
      "metadata": {
        "colab": {
          "base_uri": "https://localhost:8080/"
        },
        "id": "ht7gSqSNyTPb",
        "outputId": "9ae70c29-5881-4280-e939-12240dcc760f"
      },
      "execution_count": 59,
      "outputs": [
        {
          "output_type": "execute_result",
          "data": {
            "text/plain": [
              "Date         2020-03-20\n",
              "Open          39.779999\n",
              "High          41.009998\n",
              "Low           35.450001\n",
              "Close             35.75\n",
              "Adj Close     35.080837\n",
              "Volume           954500\n",
              "Name: 306, dtype: object"
            ]
          },
          "metadata": {},
          "execution_count": 59
        }
      ]
    },
    {
      "cell_type": "markdown",
      "source": [
        "What is the average volume in a week? We can get approximation by:\n"
      ],
      "metadata": {
        "id": "vTHXCkxVy_sQ"
      }
    },
    {
      "cell_type": "code",
      "source": [
        "max=data1.loc[data1['Volume'].idxmax()]\n",
        "min=data1.loc[data1['Volume'].idxmin()]\n",
        "min\n",
        "max\n",
        "(2047600+83000)/2"
      ],
      "metadata": {
        "colab": {
          "base_uri": "https://localhost:8080/"
        },
        "id": "53b5rK1TzvTu",
        "outputId": "f907588e-9bac-4c60-9320-abfdbefdb8c0"
      },
      "execution_count": 64,
      "outputs": [
        {
          "output_type": "execute_result",
          "data": {
            "text/plain": [
              "1065300.0"
            ]
          },
          "metadata": {},
          "execution_count": 64
        }
      ]
    }
  ]
}