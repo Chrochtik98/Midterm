{
  "cells": [
    {
      "cell_type": "code",
      "execution_count": null,
      "metadata": {
        "id": "BXXFLpdk5hCG"
      },
      "outputs": [],
      "source": [
        "import requests\n",
        "from bs4 import BeautifulSoup\n",
        "import pandas as pd\n",
        "from time import sleep\n",
        "from tqdm import tqdm\n",
        "import re"
      ]
    },
    {
      "cell_type": "markdown",
      "metadata": {
        "id": "UIZaE1yD5hCJ"
      },
      "source": [
        "# Lecture 6 - IES Web scraper\n",
        "\n",
        "by Vítek Macháček\n",
        "\n",
        "March 23, 2020\n",
        "\n",
        "* Putting it all together\n",
        "* OOP + Pandas + Requests + Scraping\n"
      ]
    },
    {
      "cell_type": "markdown",
      "metadata": {
        "id": "dHxsFBho5hCa"
      },
      "source": [
        "## Object-oriented Programming\n",
        "* Brief reminder of how objects work\n",
        "\n",
        "### Docstring + Objects + Inheriting + Constructors"
      ]
    },
    {
      "cell_type": "markdown",
      "metadata": {
        "id": "7Rxwiwd25hCd"
      },
      "source": [
        "![Simple Object Structure](https://github.com/vitekzkytek/PythonDataIES/blob/master/06_IES_Web_Scraper/img/class_example.png?raw=1)"
      ]
    },
    {
      "cell_type": "code",
      "execution_count": null,
      "metadata": {
        "id": "5qR-k3dy5hCe"
      },
      "outputs": [],
      "source": [
        "class Person:\n",
        "    '''\n",
        "    A Person class is *Abstract* - Intended not to be used directly, but rather to be inherited.\n",
        "    '''\n",
        "    def __init__(self,name,email):\n",
        "        '''\n",
        "        Person's constructor accepts name and e-mail and set it as class attributes, but first it checks whether they are in valid format\n",
        "        '''\n",
        "\n",
        "        if self._verify_name(name):\n",
        "            self.name = name\n",
        "        else:\n",
        "            raise PersonException('Name is invalid')\n",
        "\n",
        "        if self._verify_email(email):\n",
        "            self.email = email\n",
        "        else:\n",
        "            raise PersonException('Email is invalid')\n",
        "    \n",
        "    def _verify_name(self,name):\n",
        "        '''\n",
        "        Method for ensuring that name is not empty and is string\n",
        "        '''\n",
        "        return len(name) > 0 and type(name) == type('')\n",
        "\n",
        "    def _verify_email(self,email):\n",
        "        '''\n",
        "        Method validating that email is truly an email.\n",
        "        '''\n",
        "\n",
        "        email_pattern = '^[a-zA-Z0-9_.+-]+@[a-zA-Z0-9-]+\\.[a-zA-Z0-9-.]+$'\n",
        "        if(re.search(email_pattern,email)):  \n",
        "            return True \n",
        "        else:  \n",
        "            return False\n",
        "    \n",
        "    def _verify_courses(self,courses):\n",
        "        '''\n",
        "        Is list of courses a list containing valid course idents?\n",
        "        '''\n",
        "        def _verify_course(course):\n",
        "            if type(course) != type(''):\n",
        "                return False\n",
        "            elif len(course) != 6:\n",
        "                return False\n",
        "            elif not (course.startswith('JEM') or course.startswith('JEB')):\n",
        "                return False\n",
        "            else:\n",
        "                return True\n",
        "        \n",
        "        if type(courses) != type([]):\n",
        "            return False\n",
        "\n",
        "        return all([_verify_course(course) for course in courses])\n",
        "        \n",
        "    def describe(self):\n",
        "        \n",
        "        raise PersonException(\"Cannot describe abstract Person class. Override this in Teacher or Student class\")\n",
        "    \n",
        "    def get_name(self):\n",
        "        if self.name:\n",
        "            return self.name\n",
        "        else:\n",
        "            return PersonException('No name defined')\n",
        "    def get_email(self):\n",
        "        if self.email:\n",
        "            return self.email\n",
        "        else: \n",
        "            return PersonException('No email defined')\n",
        "    \n",
        "    \n",
        "class PersonException(Exception):\n",
        "    '''\n",
        "    Object handling Person related errors\n",
        "    '''\n",
        "    pass\n",
        "\n",
        "class TeacherException(Exception):\n",
        "    '''\n",
        "    Object handling Teacher related errors\n",
        "    '''\n",
        "    pass\n",
        "\n",
        "class StudentException(Exception):\n",
        "    '''\n",
        "    Object handling Student related errors\n",
        "    '''\n",
        "    pass\n",
        "\n",
        "someone = Person('Name','email@somewhere.com')"
      ]
    },
    {
      "cell_type": "code",
      "execution_count": null,
      "metadata": {
        "id": "ZF4yCCjJ5hCg",
        "outputId": "799e7839-c25a-4384-d00e-55bd6322d03e",
        "colab": {
          "base_uri": "https://localhost:8080/",
          "height": 35
        }
      },
      "outputs": [
        {
          "output_type": "execute_result",
          "data": {
            "text/plain": [
              "'email@somewhere.com'"
            ],
            "application/vnd.google.colaboratory.intrinsic+json": {
              "type": "string"
            }
          },
          "metadata": {},
          "execution_count": 5
        }
      ],
      "source": [
        "someone.email"
      ]
    },
    {
      "cell_type": "code",
      "execution_count": null,
      "metadata": {
        "id": "D3MM-qMh5hCj",
        "outputId": "9738816b-3333-4cf8-c60e-07ea3930a6cd"
      },
      "outputs": [
        {
          "ename": "PersonException",
          "evalue": "Cannot describe abstract Person class. Override this in Teacher or Student class",
          "output_type": "error",
          "traceback": [
            "\u001b[0;31m---------------------------------------------------------------------------\u001b[0m",
            "\u001b[0;31mPersonException\u001b[0m                           Traceback (most recent call last)",
            "\u001b[0;32m<ipython-input-5-4765dbcfda6c>\u001b[0m in \u001b[0;36m<module>\u001b[0;34m\u001b[0m\n\u001b[0;32m----> 1\u001b[0;31m \u001b[0msomeone\u001b[0m\u001b[0;34m.\u001b[0m\u001b[0mdescribe\u001b[0m\u001b[0;34m(\u001b[0m\u001b[0;34m)\u001b[0m\u001b[0;34m\u001b[0m\u001b[0;34m\u001b[0m\u001b[0m\n\u001b[0m",
            "\u001b[0;32m<ipython-input-3-5af35bb6e5fc>\u001b[0m in \u001b[0;36mdescribe\u001b[0;34m(self)\u001b[0m\n\u001b[1;32m     56\u001b[0m     \u001b[0;32mdef\u001b[0m \u001b[0mdescribe\u001b[0m\u001b[0;34m(\u001b[0m\u001b[0mself\u001b[0m\u001b[0;34m)\u001b[0m\u001b[0;34m:\u001b[0m\u001b[0;34m\u001b[0m\u001b[0;34m\u001b[0m\u001b[0m\n\u001b[1;32m     57\u001b[0m \u001b[0;34m\u001b[0m\u001b[0m\n\u001b[0;32m---> 58\u001b[0;31m         \u001b[0;32mraise\u001b[0m \u001b[0mPersonException\u001b[0m\u001b[0;34m(\u001b[0m\u001b[0;34m\"Cannot describe abstract Person class. Override this in Teacher or Student class\"\u001b[0m\u001b[0;34m)\u001b[0m\u001b[0;34m\u001b[0m\u001b[0;34m\u001b[0m\u001b[0m\n\u001b[0m\u001b[1;32m     59\u001b[0m \u001b[0;34m\u001b[0m\u001b[0m\n\u001b[1;32m     60\u001b[0m     \u001b[0;32mdef\u001b[0m \u001b[0mget_name\u001b[0m\u001b[0;34m(\u001b[0m\u001b[0mself\u001b[0m\u001b[0;34m)\u001b[0m\u001b[0;34m:\u001b[0m\u001b[0;34m\u001b[0m\u001b[0;34m\u001b[0m\u001b[0m\n",
            "\u001b[0;31mPersonException\u001b[0m: Cannot describe abstract Person class. Override this in Teacher or Student class"
          ]
        }
      ],
      "source": [
        "someone.describe()"
      ]
    },
    {
      "cell_type": "code",
      "execution_count": null,
      "metadata": {
        "id": "8TptjJDH5hCk",
        "outputId": "54fed80b-7282-490a-c2fa-e182229a50f1"
      },
      "outputs": [
        {
          "name": "stdout",
          "output_type": "stream",
          "text": [
            "I am Vítek, my email is vitezkytek@gmail.com and I teach following courses: ['JEM207']\n"
          ]
        }
      ],
      "source": [
        " class Teacher(Person):\n",
        "    '''\n",
        "    Teacher class inherits from Person and contains name, email and list of courses taught\n",
        "    '''\n",
        "    def __init__(self,name,email,teaching_courses):\n",
        "        '''\n",
        "        Teacher's constructor calls the Person's constructor first and then do his stuff\n",
        "        '''\n",
        "        \n",
        "        ## call to \"parent\" constructor\n",
        "        super().__init__(name,email)\n",
        "        \n",
        "        ## own stuff of the Teacher\n",
        "        if self._verify_courses(teaching_courses):\n",
        "            self.teaching_courses = teaching_courses\n",
        "        else:\n",
        "            raise TeacherException('Cannot validate courses.')\n",
        "    \n",
        "    def describe(self):\n",
        "        \"\"\" Overriding parent method \"\"\"\n",
        "        print('I am {}, my email is {} and I teach following courses: {}'.format(self.name,self.email,self.teaching_courses))\n",
        "    \n",
        "        \n",
        "class Student(Person):\n",
        "    '''\n",
        "    Student class inherits from Person and contains name, email and list of courses taught\n",
        "    '''\n",
        "    def __init__(self,name,email,studying_courses):\n",
        "        '''\n",
        "        Student's constructor calls the Person's constructor first and then do his stuff\n",
        "        '''\n",
        "        super().__init__(name,email)\n",
        "        \n",
        "        if self._verify_courses(studying_courses):\n",
        "            self.studying_courses = studying_courses\n",
        "        else:\n",
        "            raise StudentException('Cannot validate courses.')\n",
        "\n",
        "    def describe(self):\n",
        "        \"\"\" Overriding parent method \"\"\"\n",
        "        print(\"I am Vítek's student. My name is {name}. I study following courses: {courses}\".format(courses=self.studying_courses,name=self.name))\n",
        "        \n",
        "vitek = Teacher('Vítek','vitezkytek@gmail.com',['JEM207'])\n",
        "\n",
        "vitek.describe()"
      ]
    },
    {
      "cell_type": "code",
      "execution_count": null,
      "metadata": {
        "id": "tH-8PTzn5hCm",
        "outputId": "81a68a6d-d79b-42e2-d870-95769e64df7a"
      },
      "outputs": [
        {
          "name": "stdout",
          "output_type": "stream",
          "text": [
            "I am Vítek's student. My name is Honza. I study following courses: ['JEM207', 'JEB111']\n"
          ]
        }
      ],
      "source": [
        "my_student = Student('Honza','honza@fsv.cuni.cz',['JEM207','JEB111'])\n",
        "my_student.describe()"
      ]
    },
    {
      "cell_type": "code",
      "execution_count": null,
      "metadata": {
        "id": "L7FK4_H_5hCn",
        "outputId": "429520dc-631e-4e5b-d8c8-316c91ab8466"
      },
      "outputs": [
        {
          "data": {
            "text/plain": [
              "'Honza'"
            ]
          },
          "execution_count": 8,
          "metadata": {},
          "output_type": "execute_result"
        }
      ],
      "source": [
        "my_student.name"
      ]
    },
    {
      "cell_type": "markdown",
      "metadata": {
        "id": "-qhBP80I5hCn"
      },
      "source": [
        "### Exceptions"
      ]
    },
    {
      "cell_type": "code",
      "execution_count": null,
      "metadata": {
        "id": "P51WoitF5hCo",
        "outputId": "d61cfa6d-5c45-4f4a-8a0c-9efaf5751587"
      },
      "outputs": [
        {
          "name": "stdout",
          "output_type": "stream",
          "text": [
            "1.0\n",
            "1.25\n",
            "1.6666666666666667\n",
            "2.5\n",
            "5.0\n",
            "\n",
            "-5.0\n",
            "-2.5\n",
            "-1.6666666666666667\n",
            "-1.25\n"
          ]
        }
      ],
      "source": [
        "for i in range(5,-5,-1):\n",
        "    try:\n",
        "        print(5/i)\n",
        "    except StudentException:\n",
        "        print('you should not divide by zero')\n",
        "    except TeacherException:\n",
        "        pass\n",
        "    except ValueError:\n",
        "        pass\n",
        "    except: \n",
        "        print()"
      ]
    },
    {
      "cell_type": "code",
      "execution_count": null,
      "metadata": {
        "id": "61Q7tfcf5hCp",
        "outputId": "09181393-8b08-4fda-ea37-384b904117e4"
      },
      "outputs": [
        {
          "data": {
            "text/plain": [
              "\u001b[0;31mInit signature:\u001b[0m \u001b[0mPerson\u001b[0m\u001b[0;34m(\u001b[0m\u001b[0mname\u001b[0m\u001b[0;34m,\u001b[0m \u001b[0memail\u001b[0m\u001b[0;34m)\u001b[0m\u001b[0;34m\u001b[0m\u001b[0;34m\u001b[0m\u001b[0m\n",
              "\u001b[0;31mDocstring:\u001b[0m      A Person class is *Abstract* - Intended not to be used directly, but rather to be inherited.\n",
              "\u001b[0;31mInit docstring:\u001b[0m Person's constructor accepts name and e-mail and set it as class attributes, but first it checks whether they are in valid format\n",
              "\u001b[0;31mType:\u001b[0m           type\n",
              "\u001b[0;31mSubclasses:\u001b[0m     Teacher, Student\n"
            ]
          },
          "metadata": {},
          "output_type": "display_data"
        }
      ],
      "source": [
        "?Person"
      ]
    },
    {
      "cell_type": "code",
      "execution_count": null,
      "metadata": {
        "id": "9P_4i1mU5hCp",
        "outputId": "0e29642b-7cf8-4fa1-a92e-e7ff203d6a78"
      },
      "outputs": [
        {
          "data": {
            "text/plain": [
              "\u001b[0;31mInit signature:\u001b[0m \u001b[0mTeacher\u001b[0m\u001b[0;34m(\u001b[0m\u001b[0mname\u001b[0m\u001b[0;34m,\u001b[0m \u001b[0memail\u001b[0m\u001b[0;34m,\u001b[0m \u001b[0mteaching_courses\u001b[0m\u001b[0;34m)\u001b[0m\u001b[0;34m\u001b[0m\u001b[0;34m\u001b[0m\u001b[0m\n",
              "\u001b[0;31mDocstring:\u001b[0m      Teacher class inherits from Person and contains name, email and list of courses taught\n",
              "\u001b[0;31mInit docstring:\u001b[0m Teacher's constructor calls the Person's constructor first and then do his stuff\n",
              "\u001b[0;31mType:\u001b[0m           type\n",
              "\u001b[0;31mSubclasses:\u001b[0m     \n"
            ]
          },
          "metadata": {},
          "output_type": "display_data"
        }
      ],
      "source": [
        "?Teacher"
      ]
    },
    {
      "cell_type": "markdown",
      "metadata": {
        "id": "nwWfneBw5hCq"
      },
      "source": [
        "### Robots.txt\n",
        "\n",
        "* Is it OK to scrape?\n",
        "* Guidance for search engines etc.\n"
      ]
    },
    {
      "cell_type": "markdown",
      "metadata": {
        "id": "SEMUhz9H5hCr"
      },
      "source": [
        "https://www.promptcloud.com/blog/how-to-read-and-respect-robots-file/"
      ]
    },
    {
      "cell_type": "code",
      "execution_count": null,
      "metadata": {
        "id": "h1YWRODk5hCs",
        "outputId": "d1bfd1df-e753-46b2-d64a-c79e5fb7470c"
      },
      "outputs": [
        {
          "data": {
            "text/plain": [
              "<Response [404]>"
            ]
          },
          "execution_count": 12,
          "metadata": {},
          "output_type": "execute_result"
        }
      ],
      "source": [
        "requests.get('http://ies.fsv.cuni.cz/robots.txt')"
      ]
    },
    {
      "cell_type": "code",
      "execution_count": null,
      "metadata": {
        "id": "QQYXPmn75hCu",
        "outputId": "2299bf3b-175a-4bf9-c805-44d1f368698f"
      },
      "outputs": [
        {
          "name": "stdout",
          "output_type": "stream",
          "text": [
            "User-agent: *\n",
            "Disallow: /\n",
            "\n",
            "User-agent: Googlebot\n",
            "Allow: /\n",
            "Disallow: /advertpdf/\n",
            "Disallow: /favourites-info\n",
            "Disallow: *_buri=\n",
            "Disallow: /adresar/*page=\n",
            "Disallow: /adresar/*perPage=\n",
            "Disallow: /adresar/*search=\n",
            "Disallow: /adresar/*letter=\n",
            "Disallow: /adresar/*id=\n",
            "Disallow: /firma/*page=\n",
            "Disallow: /firma/*perPage=\n",
            "Disallow: /firma/*search=\n",
            "Disallow: /firma/*letter=\n",
            "Disallow: /firma/*id=\n",
            "Disallow: /hledani/*,\n",
            "Allow: /hledani/*region=*,\n",
            "Disallow: /rk-detail\n",
            "Disallow: *bez-aukce=\n",
            "Disallow: *without-auction=\n",
            "Disallow: *pois_in_place=\n",
            "Disallow: *pois_in_place_distance=\n",
            "\n",
            "User-agent: SeznamBot\n",
            "Allow: /\n",
            "Disallow: /advertpdf/\n",
            "Disallow: /en/\n",
            "Disallow: /ru/\n",
            "Disallow: /favourites-info\n",
            "Disallow: *_buri=\n",
            "Disallow: /adresar/*page=\n",
            "Disallow: /adresar/*perPage=\n",
            "Disallow: /adresar/*search=\n",
            "Disallow: /adresar/*letter=\n",
            "Disallow: /adresar/*id=\n",
            "Disallow: /firma/*page=\n",
            "Disallow: /firma/*perPage=\n",
            "Disallow: /firma/*search=\n",
            "Disallow: /firma/*letter=\n",
            "Disallow: /firma/*id=\n",
            "Disallow: /hledani/*,\n",
            "Allow: /hledani/*region=*,\n",
            "Disallow: /rk-detail\n",
            "Disallow: *bez-aukce=\n",
            "Disallow: *without-auction=\n",
            "Disallow: *pois_in_place=\n",
            "Disallow: *pois_in_place_distance=\n",
            "\n",
            "User-agent: Bingbot\n",
            "Allow: /\n",
            "Disallow: /advertpdf/\n",
            "Disallow: /favourites-info\n",
            "Disallow: *_buri=\n",
            "Disallow: /adresar/*page=\n",
            "Disallow: /adresar/*perPage=\n",
            "Disallow: /adresar/*search=\n",
            "Disallow: /adresar/*letter=\n",
            "Disallow: /adresar/*id=\n",
            "Disallow: /firma/*page=\n",
            "Disallow: /firma/*perPage=\n",
            "Disallow: /firma/*search=\n",
            "Disallow: /firma/*letter=\n",
            "Disallow: /firma/*id=\n",
            "Disallow: /hledani/*,\n",
            "Allow: /hledani/*region=*,\n",
            "Disallow: /rk-detail\n",
            "Disallow: *bez-aukce=\n",
            "Disallow: *without-auction=\n",
            "Disallow: *pois_in_place=\n",
            "Disallow: *pois_in_place_distance=\n",
            "\n",
            "\n",
            "User-agent: Slurp\n",
            "Allow: /\n",
            "Disallow: /advertpdf/\n",
            "Disallow: /favourites-info\n",
            "Disallow: *_buri=\n",
            "Disallow: /adresar/*page=\n",
            "Disallow: /adresar/*perPage=\n",
            "Disallow: /adresar/*search=\n",
            "Disallow: /adresar/*letter=\n",
            "Disallow: /adresar/*id=\n",
            "Disallow: /firma/*page=\n",
            "Disallow: /firma/*perPage=\n",
            "Disallow: /firma/*search=\n",
            "Disallow: /firma/*letter=\n",
            "Disallow: /firma/*id=\n",
            "Disallow: /hledani/*,\n",
            "Allow: /hledani/*region=*,\n",
            "Disallow: /rk-detail\n",
            "Disallow: *bez-aukce=\n",
            "Disallow: *without-auction=\n",
            "Disallow: *pois_in_place=\n",
            "Disallow: *pois_in_place_distance=\n",
            "\n",
            "\n",
            "User-agent: DuckDuckBot\n",
            "Allow: /\n",
            "Disallow: /advertpdf/\n",
            "Disallow: /favourites-info\n",
            "Disallow: *_buri=\n",
            "Disallow: /adresar/*page=\n",
            "Disallow: /adresar/*perPage=\n",
            "Disallow: /adresar/*search=\n",
            "Disallow: /adresar/*letter=\n",
            "Disallow: /adresar/*id=\n",
            "Disallow: /firma/*page=\n",
            "Disallow: /firma/*perPage=\n",
            "Disallow: /firma/*search=\n",
            "Disallow: /firma/*letter=\n",
            "Disallow: /firma/*id=\n",
            "Disallow: /hledani/*,\n",
            "Allow: /hledani/*region=*,\n",
            "Disallow: /rk-detail\n",
            "Disallow: *bez-aukce=\n",
            "Disallow: *without-auction=\n",
            "Disallow: *pois_in_place=\n",
            "Disallow: *pois_in_place_distance=\n",
            "\n",
            "\n",
            "User-agent: Baiduspider\n",
            "Allow: /\n",
            "Disallow: /advertpdf/\n",
            "Disallow: /favourites-info\n",
            "Disallow: *_buri=\n",
            "Disallow: /adresar/*page=\n",
            "Disallow: /adresar/*perPage=\n",
            "Disallow: /adresar/*search=\n",
            "Disallow: /adresar/*letter=\n",
            "Disallow: /adresar/*id=\n",
            "Disallow: /firma/*page=\n",
            "Disallow: /firma/*perPage=\n",
            "Disallow: /firma/*search=\n",
            "Disallow: /firma/*letter=\n",
            "Disallow: /firma/*id=\n",
            "Disallow: /hledani/*,\n",
            "Allow: /hledani/*region=*,\n",
            "Disallow: /rk-detail\n",
            "Disallow: *bez-aukce=\n",
            "Disallow: *without-auction=\n",
            "Disallow: *pois_in_place=\n",
            "Disallow: *pois_in_place_distance=\n",
            "\n",
            "\n",
            "User-agent: YandexBot\n",
            "Allow: /\n",
            "Disallow: /advertpdf/\n",
            "Disallow: /favourites-info\n",
            "Disallow: *_buri=\n",
            "Disallow: /adresar/*page=\n",
            "Disallow: /adresar/*perPage=\n",
            "Disallow: /adresar/*search=\n",
            "Disallow: /adresar/*letter=\n",
            "Disallow: /adresar/*id=\n",
            "Disallow: /firma/*page=\n",
            "Disallow: /firma/*perPage=\n",
            "Disallow: /firma/*search=\n",
            "Disallow: /firma/*letter=\n",
            "Disallow: /firma/*id=\n",
            "Disallow: /hledani/*,\n",
            "Allow: /hledani/*region=*,\n",
            "Disallow: /rk-detail\n",
            "Disallow: *bez-aukce=\n",
            "Disallow: *without-auction=\n",
            "Disallow: *pois_in_place=\n",
            "Disallow: *pois_in_place_distance=\n",
            "\n",
            "\n",
            "User-agent: Applebot\n",
            "Allow: /\n",
            "Disallow: /advertpdf/\n",
            "Disallow: /favourites-info\n",
            "Disallow: *_buri=\n",
            "Disallow: /adresar/*page=\n",
            "Disallow: /adresar/*perPage=\n",
            "Disallow: /adresar/*search=\n",
            "Disallow: /adresar/*letter=\n",
            "Disallow: /adresar/*id=\n",
            "Disallow: /firma/*page=\n",
            "Disallow: /firma/*perPage=\n",
            "Disallow: /firma/*search=\n",
            "Disallow: /firma/*letter=\n",
            "Disallow: /firma/*id=\n",
            "Disallow: /hledani/*,\n",
            "Allow: /hledani/*region=*,\n",
            "Disallow: /rk-detail\n",
            "Disallow: *bez-aukce=\n",
            "Disallow: *without-auction=\n",
            "Disallow: *pois_in_place=\n",
            "Disallow: *pois_in_place_distance=\n",
            "\n",
            "\n",
            "User-agent: ia_archiver\n",
            "Allow: /\n",
            "Disallow: /advertpdf/\n",
            "Disallow: /favourites-info\n",
            "Disallow: *_buri=\n",
            "Disallow: /adresar/*page=\n",
            "Disallow: /adresar/*perPage=\n",
            "Disallow: /adresar/*search=\n",
            "Disallow: /adresar/*letter=\n",
            "Disallow: /adresar/*id=\n",
            "Disallow: /firma/*page=\n",
            "Disallow: /firma/*perPage=\n",
            "Disallow: /firma/*search=\n",
            "Disallow: /firma/*letter=\n",
            "Disallow: /firma/*id=\n",
            "Disallow: /hledani/*,\n",
            "Allow: /hledani/*region=*,\n",
            "Disallow: /rk-detail\n",
            "Disallow: *bez-aukce=\n",
            "Disallow: *without-auction=\n",
            "Disallow: *pois_in_place=\n",
            "Disallow: *pois_in_place_distance=\n",
            "\n",
            "User-agent: msnbot\n",
            "Allow: /\n",
            "Disallow: /advertpdf/\n",
            "Disallow: /favourites-info\n",
            "Disallow: *_buri=\n",
            "Disallow: /adresar/*page=\n",
            "Disallow: /adresar/*perPage=\n",
            "Disallow: /adresar/*search=\n",
            "Disallow: /adresar/*letter=\n",
            "Disallow: /adresar/*id=\n",
            "Disallow: /firma/*page=\n",
            "Disallow: /firma/*perPage=\n",
            "Disallow: /firma/*search=\n",
            "Disallow: /firma/*letter=\n",
            "Disallow: /firma/*id=\n",
            "Disallow: /hledani/*,\n",
            "Allow: /hledani/*region=*,\n",
            "Disallow: /rk-detail\n",
            "Disallow: *bez-aukce=\n",
            "Disallow: *without-auction=\n",
            "Disallow: *pois_in_place=\n",
            "Disallow: *pois_in_place_distance=\n",
            "\n",
            "User-agent: Naverbot\n",
            "Allow: /\n",
            "Disallow: /advertpdf/\n",
            "Disallow: /favourites-info\n",
            "Disallow: *_buri=\n",
            "Disallow: /adresar/*page=\n",
            "Disallow: /adresar/*perPage=\n",
            "Disallow: /adresar/*search=\n",
            "Disallow: /adresar/*letter=\n",
            "Disallow: /adresar/*id=\n",
            "Disallow: /firma/*page=\n",
            "Disallow: /firma/*perPage=\n",
            "Disallow: /firma/*search=\n",
            "Disallow: /firma/*letter=\n",
            "Disallow: /firma/*id=\n",
            "Disallow: /hledani/*,\n",
            "Allow: /hledani/*region=*,\n",
            "Disallow: /rk-detail\n",
            "Disallow: *bez-aukce=\n",
            "Disallow: *without-auction=\n",
            "Disallow: *pois_in_place=\n",
            "Disallow: *pois_in_place_distance=\n",
            "\n",
            "\n",
            "# Better safe than sorry\n",
            "User-agent: Mediapartners-Google\n",
            "Disallow:\n",
            "\n",
            "User-agent: facebot\n",
            "Disallow:\n",
            "\n",
            "User-agent: facebookexternalhit\n",
            "Disallow:\n",
            "\n",
            "User-agent: Twitterbot\n",
            "Disallow:\n",
            "\n",
            "User-agent: BingPreview\n",
            "Disallow:\n",
            "\n",
            "User-agent: vkShare\n",
            "Disallow:\n",
            "\n",
            "User-agent: Mail.RU_Bot\n",
            "Disallow:\n",
            "\n",
            "\n",
            "Sitemap: https://www.sreality.cz/sitemap.xml\n",
            "\n"
          ]
        }
      ],
      "source": [
        "print(requests.get('http://sreality.cz/robots.txt').text)"
      ]
    },
    {
      "cell_type": "markdown",
      "metadata": {
        "id": "xDG3KlRk5hCv"
      },
      "source": [
        "## Task:\n",
        "* A parser of IES websites with following features:\n",
        "    * All info about people from [Internal faculty](http://ies.fsv.cuni.cz/en/node/48), [External lecturers](http://ies.fsv.cuni.cz/en/node/49), [Ph.D. candidates](http://ies.fsv.cuni.cz/en/node/51) and [Administration](http://ies.fsv.cuni.cz/en/node/50)\n",
        "    * All info about [all](http://ies.fsv.cuni.cz/en/node/109) theses between 1994 and 2019 won'be covered\n",
        "    * Also all courses! But no list of courses available ..."
      ]
    },
    {
      "cell_type": "markdown",
      "metadata": {
        "id": "1l-tEzAi5hCw"
      },
      "source": [
        "## Pages\n",
        "\n",
        "### Find all persons?\n",
        "[Current faculty](http://ies.fsv.cuni.cz/en/node/48)"
      ]
    },
    {
      "cell_type": "markdown",
      "metadata": {
        "id": "CF7Ea_uP5hCx"
      },
      "source": [
        "1. understand structure of the website"
      ]
    },
    {
      "cell_type": "code",
      "execution_count": null,
      "metadata": {
        "id": "KNQtXGsc5hCx"
      },
      "outputs": [],
      "source": [
        "def getSoup(link):\n",
        "    sleep(0.1) #to be kind to the website\n",
        "    r = requests.get(link)\n",
        "    r.encoding = 'UTF-8'\n",
        "    return BeautifulSoup(r.text,'lxml')"
      ]
    },
    {
      "cell_type": "code",
      "execution_count": null,
      "metadata": {
        "id": "OGvsulv45hCy"
      },
      "outputs": [],
      "source": [
        "soup = getSoup('https://ies.fsv.cuni.cz/en/node/48')"
      ]
    },
    {
      "cell_type": "code",
      "execution_count": null,
      "metadata": {
        "id": "w2MNnIf_5hCy",
        "outputId": "6d9591a5-075d-423e-c352-a10b32d8e273"
      },
      "outputs": [
        {
          "data": {
            "text/plain": [
              "[<td class=\"peopleTableCellName\">\n",
              " <a href=\"/en/staff/bajgar\"><b> Matěj Bajgar M.Sc., DPhil.</b></a>\n",
              " </td>,\n",
              " <td class=\"peopleTableCellName\">\n",
              " <a href=\"/en/staff/barunik\"><b>doc. PhDr. Jozef Baruník Ph.D.</b></a>\n",
              " </td>,\n",
              " <td class=\"peopleTableCellName\">\n",
              " <a href=\"/en/staff/bauerm\"><b>doc. PhDr. Michal Bauer Ph.D.</b></a>\n",
              " </td>,\n",
              " <td class=\"peopleTableCellName\">\n",
              " <a href=\"/en/staff/baxajaromir\"><b>PhDr. Jaromír Baxa Ph.D.</b></a>\n",
              " </td>,\n",
              " <td class=\"peopleTableCellName\">\n",
              " <a href=\"/en/staff/bertoli\"><b>doc. Paola Bertoli M.A., MSc., Ph.D.</b></a>\n",
              " </td>,\n",
              " <td class=\"peopleTableCellName\">\n",
              " <a href=\"/en/staff/cahlik\"><b>doc. Ing. Tomáš Cahlík CSc.</b></a>\n",
              " </td>,\n",
              " <td class=\"peopleTableCellName\">\n",
              " <a href=\"/en/staff/fcech\"><b>PhDr. František Čech Ph.D.</b></a>\n",
              " </td>,\n",
              " <td class=\"peopleTableCellName\">\n",
              " <a href=\"/en/staff/cervinka\"><b>RNDr. Michal Červinka Ph.D.</b></a>\n",
              " </td>,\n",
              " <td class=\"peopleTableCellName\">\n",
              " <a href=\"/en/staff/chytilova\"><b>doc. PhDr. Julie Chytilová Ph.D.</b></a>\n",
              " </td>,\n",
              " <td class=\"peopleTableCellName\">\n",
              " <a href=\"/en/staff/dedek\"><b>prof. Ing. Oldřich Dědek CSc.</b></a>\n",
              " </td>,\n",
              " <td class=\"peopleTableCellName\">\n",
              " <a href=\"/en/staff/dolezalova\"><b>doc. PhDr. Ing. Antonie Doležalová Ph.D.</b></a>\n",
              " </td>,\n",
              " <td class=\"peopleTableCellName\">\n",
              " <a href=\"/en/staff/gersl\"><b>doc. PhDr. Adam Geršl Ph.D.</b></a>\n",
              " </td>,\n",
              " <td class=\"peopleTableCellName\">\n",
              " <a href=\"/en/staff/gregor\"><b>doc. PhDr. Martin Gregor Ph.D.</b></a>\n",
              " </td>,\n",
              " <td class=\"peopleTableCellName\">\n",
              " <a href=\"/en/staff/havranek\"><b>prof. PhDr. Tomáš Havránek Ph.D.</b></a>\n",
              " </td>,\n",
              " <td class=\"peopleTableCellName\">\n",
              " <a href=\"/en/staff/irsova\"><b>doc. PhDr. Zuzana Havránková Ph.D.</b></a>\n",
              " </td>,\n",
              " <td class=\"peopleTableCellName\">\n",
              " <a href=\"/en/staff/hlavacekm\"><b>PhDr. Michal Hlaváček Ph.D.</b></a>\n",
              " </td>,\n",
              " <td class=\"peopleTableCellName\">\n",
              " <a href=\"/en/staff/holub\"><b>doc. Mgr. Tomáš Holub Ph.D.</b></a>\n",
              " </td>,\n",
              " <td class=\"peopleTableCellName\">\n",
              " <a href=\"/en/staff/horvath\"><b>prof. Roman Horváth Ph.D.</b></a>\n",
              " </td>,\n",
              " <td class=\"peopleTableCellName\">\n",
              " <a href=\"/en/staff/jakubik\"><b>doc. PhDr. Ing. Ing. Petr Jakubík Ph.D. Ph.D.</b></a>\n",
              " </td>,\n",
              " <td class=\"peopleTableCellName\">\n",
              " <a href=\"/en/staff/janda\"><b>prof. Ing. Karel Janda M.A., Dr., Ph.D.</b></a>\n",
              " </td>,\n",
              " <td class=\"peopleTableCellName\">\n",
              " <a href=\"/en/staff/jansky\"><b>doc. Petr Janský Ph.D.</b></a>\n",
              " </td>,\n",
              " <td class=\"peopleTableCellName\">\n",
              " <a href=\"/en/staff/kemenyova\"><b>Ing. Irena Kemény </b></a>\n",
              " </td>,\n",
              " <td class=\"peopleTableCellName\">\n",
              " <a href=\"/en/staff/kocenda\"><b>prof. Ing. Evžen Kočenda M.A., Ph.D., DSc.</b></a>\n",
              " </td>,\n",
              " <td class=\"peopleTableCellName\">\n",
              " <a href=\"/en/staff/komarek\"><b>prof. Ing. et Ing. Luboš Komárek Ph.D., MSc., MBA</b></a>\n",
              " </td>,\n",
              " <td class=\"peopleTableCellName\">\n",
              " <a href=\"/en/staff/kristoufek\"><b>prof. PhDr. Ladislav Krištoufek Ph.D.</b></a>\n",
              " </td>,\n",
              " <td class=\"peopleTableCellName\">\n",
              " <a href=\"/en/staff/kukacka\"><b>PhDr. Jiří Kukačka Ph.D.</b></a>\n",
              " </td>,\n",
              " <td class=\"peopleTableCellName\">\n",
              " <a href=\"/en/staff/novakji\"><b> Jiří Novák M.Sc., Ph.D., Deloitte Corporate Chair</b></a>\n",
              " </td>,\n",
              " <td class=\"peopleTableCellName\">\n",
              " <a href=\"/en/staff/palansky\"><b>PhDr. Miroslav Palanský M.A., Ph.D.</b></a>\n",
              " </td>,\n",
              " <td class=\"peopleTableCellName\">\n",
              " <a href=\"/en/staff/paulus\"><b>Mgr. Michal Paulus </b></a>\n",
              " </td>,\n",
              " <td class=\"peopleTableCellName\">\n",
              " <a href=\"/en/staff/neprasova\"><b>Mgr. Magda Pečená  Ph.D.</b></a>\n",
              " </td>,\n",
              " <td class=\"peopleTableCellName\">\n",
              " <a href=\"/en/staff/gebicka\"><b>Mgr. Barbara Pertold-Gebicka M.A., Ph.D.</b></a>\n",
              " </td>,\n",
              " <td class=\"peopleTableCellName\">\n",
              " <a href=\"/en/staff/scasny\"><b>Mgr. Milan Ščasný PhD.</b></a>\n",
              " </td>,\n",
              " <td class=\"peopleTableCellName\">\n",
              " <a href=\"/en/staff/schneider\"><b>doc. Ing. Ondřej Schneider MPhil., Ph.D.</b></a>\n",
              " </td>,\n",
              " <td class=\"peopleTableCellName\">\n",
              " <a href=\"/en/staff/schwarz\"><b>PhDr. Jiří Schwarz Ph.D.</b></a>\n",
              " </td>,\n",
              " <td class=\"peopleTableCellName\">\n",
              " <a href=\"/en/staff/semerak\"><b>Ing. Vilém Semerák M.A., Ph.D.</b></a>\n",
              " </td>,\n",
              " <td class=\"peopleTableCellName\">\n",
              " <a href=\"/en/staff/gregorovalenka\"><b>PhDr. Lenka Šťastná Ph.D.</b></a>\n",
              " </td>,\n",
              " <td class=\"peopleTableCellName\">\n",
              " <a href=\"/en/staff/teply\"><b>prof. PhDr. Petr Teplý Ph.D.</b></a>\n",
              " </td>,\n",
              " <td class=\"peopleTableCellName\">\n",
              " <a href=\"/en/staff/vacek\"><b>PhDr. Pavel Vacek Ph.D.</b></a>\n",
              " </td>,\n",
              " <td class=\"peopleTableCellName\">\n",
              " <a href=\"/en/staff/vacha\"><b>Mgr. Lukáš Vácha Ph.D.</b></a>\n",
              " </td>,\n",
              " <td class=\"peopleTableCellName\">\n",
              " <a href=\"/en/staff/visek\"><b>prof. RNDr. Jan Ámos Víšek CSc.</b></a>\n",
              " </td>,\n",
              " <td class=\"peopleTableCellName\">\n",
              " <a href=\"/en/staff/vosvrda\"><b>prof. Ing. Miloslav Vošvrda CSc.</b></a>\n",
              " </td>,\n",
              " <td class=\"peopleTableCellName\">\n",
              " <a href=\"/en/staff/prochazkova\"><b>PhDr. Jana Votápková Ph.D.</b></a>\n",
              " </td>]"
            ]
          },
          "execution_count": 18,
          "metadata": {},
          "output_type": "execute_result"
        }
      ],
      "source": [
        "tds = soup.findAll('td', {'class':'peopleTableCellName'})\n",
        "tds"
      ]
    },
    {
      "cell_type": "code",
      "execution_count": null,
      "metadata": {
        "id": "ovP0ZkZ65hCz",
        "outputId": "f2dc80fa-08d5-4ff3-f317-03fb6902bcde"
      },
      "outputs": [
        {
          "data": {
            "text/plain": [
              "['https://ies.fsv.cuni.cz/en/staff/bajgar',\n",
              " 'https://ies.fsv.cuni.cz/en/staff/barunik',\n",
              " 'https://ies.fsv.cuni.cz/en/staff/bauerm',\n",
              " 'https://ies.fsv.cuni.cz/en/staff/baxajaromir',\n",
              " 'https://ies.fsv.cuni.cz/en/staff/bertoli',\n",
              " 'https://ies.fsv.cuni.cz/en/staff/cahlik',\n",
              " 'https://ies.fsv.cuni.cz/en/staff/fcech',\n",
              " 'https://ies.fsv.cuni.cz/en/staff/cervinka',\n",
              " 'https://ies.fsv.cuni.cz/en/staff/chytilova',\n",
              " 'https://ies.fsv.cuni.cz/en/staff/dedek',\n",
              " 'https://ies.fsv.cuni.cz/en/staff/dolezalova',\n",
              " 'https://ies.fsv.cuni.cz/en/staff/gersl',\n",
              " 'https://ies.fsv.cuni.cz/en/staff/gregor',\n",
              " 'https://ies.fsv.cuni.cz/en/staff/havranek',\n",
              " 'https://ies.fsv.cuni.cz/en/staff/irsova',\n",
              " 'https://ies.fsv.cuni.cz/en/staff/hlavacekm',\n",
              " 'https://ies.fsv.cuni.cz/en/staff/holub',\n",
              " 'https://ies.fsv.cuni.cz/en/staff/horvath',\n",
              " 'https://ies.fsv.cuni.cz/en/staff/jakubik',\n",
              " 'https://ies.fsv.cuni.cz/en/staff/janda',\n",
              " 'https://ies.fsv.cuni.cz/en/staff/jansky',\n",
              " 'https://ies.fsv.cuni.cz/en/staff/kemenyova',\n",
              " 'https://ies.fsv.cuni.cz/en/staff/kocenda',\n",
              " 'https://ies.fsv.cuni.cz/en/staff/komarek',\n",
              " 'https://ies.fsv.cuni.cz/en/staff/kristoufek',\n",
              " 'https://ies.fsv.cuni.cz/en/staff/kukacka',\n",
              " 'https://ies.fsv.cuni.cz/en/staff/novakji',\n",
              " 'https://ies.fsv.cuni.cz/en/staff/palansky',\n",
              " 'https://ies.fsv.cuni.cz/en/staff/paulus',\n",
              " 'https://ies.fsv.cuni.cz/en/staff/neprasova',\n",
              " 'https://ies.fsv.cuni.cz/en/staff/gebicka',\n",
              " 'https://ies.fsv.cuni.cz/en/staff/scasny',\n",
              " 'https://ies.fsv.cuni.cz/en/staff/schneider',\n",
              " 'https://ies.fsv.cuni.cz/en/staff/schwarz',\n",
              " 'https://ies.fsv.cuni.cz/en/staff/semerak',\n",
              " 'https://ies.fsv.cuni.cz/en/staff/gregorovalenka',\n",
              " 'https://ies.fsv.cuni.cz/en/staff/teply',\n",
              " 'https://ies.fsv.cuni.cz/en/staff/vacek',\n",
              " 'https://ies.fsv.cuni.cz/en/staff/vacha',\n",
              " 'https://ies.fsv.cuni.cz/en/staff/visek',\n",
              " 'https://ies.fsv.cuni.cz/en/staff/vosvrda',\n",
              " 'https://ies.fsv.cuni.cz/en/staff/prochazkova']"
            ]
          },
          "execution_count": 20,
          "metadata": {},
          "output_type": "execute_result"
        }
      ],
      "source": [
        "def getAllLinks(link):\n",
        "    soup = getSoup(link)\n",
        "    tds = soup.findAll('td', {'class':'peopleTableCellName'})\n",
        "    return ['https://ies.fsv.cuni.cz' + td.find('a')['href'] for td in tds]\n",
        "\n",
        "links = getAllLinks('http://ies.fsv.cuni.cz/en/node/48')\n",
        "links"
      ]
    },
    {
      "cell_type": "markdown",
      "metadata": {
        "id": "dqI0DhYN5hCz"
      },
      "source": [
        "## Person's characteristics?\n",
        "\n",
        "[A TEACHER!](https://ies.fsv.cuni.cz/en/staff/barunik)"
      ]
    },
    {
      "cell_type": "code",
      "execution_count": null,
      "metadata": {
        "id": "-WyDoZ3e5hC0",
        "outputId": "96980f0b-456b-4102-93bb-6de96f883e19"
      },
      "outputs": [
        {
          "data": {
            "text/plain": [
              "['Matěj Bajgar M.Sc., DPhil.',\n",
              " 'doc. PhDr. Jozef Baruník Ph.D.',\n",
              " 'doc. PhDr. Michal Bauer Ph.D.',\n",
              " 'PhDr. Jaromír Baxa Ph.D.',\n",
              " 'doc. Paola Bertoli M.A., MSc., Ph.D.',\n",
              " 'doc. Ing. Tomáš Cahlík CSc.',\n",
              " 'PhDr. František Čech Ph.D.',\n",
              " 'RNDr. Michal Červinka Ph.D.',\n",
              " 'doc. PhDr. Julie Chytilová Ph.D.',\n",
              " 'prof. Ing. Oldřich Dědek CSc.',\n",
              " 'doc. PhDr. Ing. Antonie Doležalová Ph.D.',\n",
              " 'doc. PhDr. Adam Geršl Ph.D.',\n",
              " 'doc. PhDr. Martin Gregor Ph.D.',\n",
              " 'prof. PhDr. Tomáš Havránek Ph.D.',\n",
              " 'doc. PhDr. Zuzana Havránková Ph.D.',\n",
              " 'PhDr. Michal Hlaváček Ph.D.',\n",
              " 'doc. Mgr. Tomáš Holub Ph.D.',\n",
              " 'prof. Roman Horváth Ph.D.',\n",
              " 'doc. PhDr. Ing. Ing. Petr Jakubík Ph.D. Ph.D.',\n",
              " 'prof. Ing. Karel Janda M.A., Dr., Ph.D.',\n",
              " 'doc. Petr Janský Ph.D.',\n",
              " 'Ing. Irena Kemény',\n",
              " 'prof. Ing. Evžen Kočenda M.A., Ph.D., DSc.',\n",
              " 'prof. Ing. et Ing. Luboš Komárek Ph.D., MSc., MBA',\n",
              " 'prof. PhDr. Ladislav Krištoufek Ph.D.',\n",
              " 'PhDr. Jiří Kukačka Ph.D.',\n",
              " 'Jiří Novák M.Sc., Ph.D., Deloitte Corporate Chair',\n",
              " 'PhDr. Miroslav Palanský M.A., Ph.D.',\n",
              " 'Mgr. Michal Paulus',\n",
              " 'Mgr. Magda Pečená  Ph.D.',\n",
              " 'Mgr. Barbara Pertold-Gebicka M.A., Ph.D.',\n",
              " 'Mgr. Milan Ščasný PhD.',\n",
              " 'doc. Ing. Ondřej Schneider MPhil., Ph.D.',\n",
              " 'PhDr. Jiří Schwarz Ph.D.',\n",
              " 'Ing. Vilém Semerák M.A., Ph.D.',\n",
              " 'PhDr. Lenka Šťastná Ph.D.',\n",
              " 'prof. PhDr. Petr Teplý Ph.D.',\n",
              " 'PhDr. Pavel Vacek Ph.D.',\n",
              " 'Mgr. Lukáš Vácha Ph.D.',\n",
              " 'prof. RNDr. Jan Ámos Víšek CSc.',\n",
              " 'prof. Ing. Miloslav Vošvrda CSc.',\n",
              " 'PhDr. Jana Votápková Ph.D.']"
            ]
          },
          "execution_count": 21,
          "metadata": {},
          "output_type": "execute_result"
        }
      ],
      "source": [
        "def getName(link):\n",
        "    soup = getSoup(link)\n",
        "    return soup.find('h2').text.strip()\n",
        "\n",
        "names = [getName(link) for link in links]\n",
        "names"
      ]
    },
    {
      "cell_type": "code",
      "execution_count": null,
      "metadata": {
        "id": "xQkitC7K5hC1",
        "outputId": "da1d5237-f4cf-4795-d815-c6134c5cb620"
      },
      "outputs": [
        {
          "data": {
            "text/plain": [
              "['',\n",
              " '+420(776)259273',\n",
              " '222 112 329',\n",
              " '222 112 309',\n",
              " '',\n",
              " '222 112 318',\n",
              " '+420 776 535 106',\n",
              " '+420 26605 2345',\n",
              " '222 112 318',\n",
              " '222 112 325',\n",
              " 'n.a.',\n",
              " '222 112 313',\n",
              " '+420 222 112 306',\n",
              " 'Please contact me by e-mail',\n",
              " '222 112 309',\n",
              " '736 524 520',\n",
              " '+420/22441-2010',\n",
              " '222 112 317',\n",
              " '+49 69 9511 19393',\n",
              " '+420 222 112 316',\n",
              " '',\n",
              " '222 112 323',\n",
              " '222 112 321',\n",
              " '736524516',\n",
              " 'line 312 (IES), line 2243 (UTIA)',\n",
              " '+420 602 767 305',\n",
              " '+420 222 112 314',\n",
              " '+420776661654',\n",
              " '',\n",
              " '222 112 309',\n",
              " '',\n",
              " '(+420) 220 199  477',\n",
              " '+1 301 530 5032',\n",
              " '',\n",
              " '',\n",
              " '222 112 309',\n",
              " '+420 222 112 326',\n",
              " '733-644-300',\n",
              " '602 161 710',\n",
              " '732 344 585',\n",
              " '222 112 314',\n",
              " '+420 777 576 698']"
            ]
          },
          "execution_count": 22,
          "metadata": {},
          "output_type": "execute_result"
        }
      ],
      "source": [
        "def getPhone(link):\n",
        "    soup = getSoup(link)\n",
        "    node = soup.find('strong',text='Phone:')\n",
        "    return node.next_sibling.strip()\n",
        "\n",
        "[getPhone(link) for link in links]"
      ]
    },
    {
      "cell_type": "code",
      "execution_count": null,
      "metadata": {
        "id": "M2JX7qiJ5hC1",
        "outputId": "c46c936d-67ca-4790-d8bf-d627e0b46edb"
      },
      "outputs": [
        {
          "data": {
            "text/plain": [
              "'barunik [AT] fsv [DOT] cuni [DOT] cz'"
            ]
          },
          "execution_count": 23,
          "metadata": {},
          "output_type": "execute_result"
        }
      ],
      "source": [
        "def getNextSiblingOfStrong(soup,characteristic):\n",
        "    strong = soup.find('strong',text=characteristic)\n",
        "    return strong.next_sibling.strip()\n",
        "soup = getSoup(links[1])\n",
        "getNextSiblingOfStrong(soup,'Email:')"
      ]
    },
    {
      "cell_type": "code",
      "execution_count": null,
      "metadata": {
        "id": "Jg3CzrZ_5hC2",
        "outputId": "a1ecb181-8f04-459d-b6bf-26251ab50ff4"
      },
      "outputs": [
        {
          "data": {
            "text/plain": [
              "Phone           +420(776)259273\n",
              "Office                      503\n",
              "Position    Associate Professor\n",
              "dtype: object"
            ]
          },
          "execution_count": 24,
          "metadata": {},
          "output_type": "execute_result"
        }
      ],
      "source": [
        "def getMoreCharacteristics(link, characteristics):\n",
        "    soup = getSoup(link)\n",
        "    return pd.Series({\n",
        "        char.replace(':',''):getNextSiblingOfStrong(soup,char) \n",
        "        for char in characteristics\n",
        "    })\n",
        "\n",
        "#[getMoreCharacteristics(link,['Phone:','Office:','Position:']) for link in links[:2]]\n",
        "getMoreCharacteristics(links[1],['Phone:','Office:','Position:'])"
      ]
    },
    {
      "cell_type": "markdown",
      "metadata": {
        "id": "-Ng_dFfE5hC2"
      },
      "source": [
        "* Let's do an object!"
      ]
    },
    {
      "cell_type": "code",
      "execution_count": null,
      "metadata": {
        "id": "IyLyOhJn5hC3"
      },
      "outputs": [],
      "source": [
        "class Person:\n",
        "    def __init__(self,link):\n",
        "        self.soup = getSoup(link)\n",
        "        self.name = self.getName()\n",
        "        self.office = self.getNextSiblingOfStrong('Office:')\n",
        "        self.phone = self.getNextSiblingOfStrong('Phone:')\n",
        "        self.characteristics = self.getCharacteristics()\n",
        "        \n",
        "    def getNextSiblingOfStrong(self, characteristic):\n",
        "        strong = self.soup.find('strong',text=characteristic)\n",
        "        return strong.next_sibling.strip()\n",
        "    \n",
        "    def getName(self):\n",
        "        return self.soup.find('h2').text\n",
        "    \n",
        "    def getCharacteristics(self):\n",
        "        return pd.Series({\n",
        "            'name':self.name,\n",
        "            'office':self.office,\n",
        "            'phone':self.phone\n",
        "        })\n",
        "\n",
        "people = [Person(link) for link in links[:2]]"
      ]
    },
    {
      "cell_type": "code",
      "execution_count": null,
      "metadata": {
        "id": "MlMUiDEQ5hC3",
        "outputId": "7df56497-f261-448a-c42a-9f42ab228f4f"
      },
      "outputs": [
        {
          "data": {
            "text/plain": [
              "name      doc. PhDr. Jozef Baruník Ph.D.\n",
              "office                               503\n",
              "phone                    +420(776)259273\n",
              "dtype: object"
            ]
          },
          "execution_count": 34,
          "metadata": {},
          "output_type": "execute_result"
        }
      ],
      "source": [
        "people[-1].characteristics"
      ]
    },
    {
      "cell_type": "code",
      "execution_count": null,
      "metadata": {
        "id": "UsBVaDL-5hC4",
        "outputId": "7e2865aa-7e4e-42cb-ad1e-13c939127b3b"
      },
      "outputs": [
        {
          "data": {
            "text/plain": [
              "[' Matěj Bajgar M.Sc., DPhil.', 'doc. PhDr. Jozef Baruník Ph.D.']"
            ]
          },
          "execution_count": 35,
          "metadata": {},
          "output_type": "execute_result"
        }
      ],
      "source": [
        "[p.name for p in people]"
      ]
    },
    {
      "cell_type": "code",
      "execution_count": null,
      "metadata": {
        "id": "aeTgnOoK5hC4",
        "outputId": "6e02d234-d6da-40b7-8f57-79253052d5d5"
      },
      "outputs": [
        {
          "data": {
            "text/plain": [
              "<div class=\"col-sm-12 col-xs-9\">\n",
              "<ul>\n",
              "<li>\n",
              "<a href=\"http://ies.fsv.cuni.cz/default/admin_auth/login/\" target=\"_blank\" title=\"\">E-Control</a>\n",
              "</li>\n",
              "<li>\n",
              "<a href=\"/en/node/263\" title=\"\">Contact</a>\n",
              "</li>\n",
              "<li>\n",
              "<a href=\"http://fsveng.fsv.cuni.cz/\" target=\"_blank\" title=\"\">FSV UK</a>\n",
              "</li>\n",
              "<li>\n",
              "<a href=\"http://dl1.cuni.cz/course/index.php?categoryid=44\" target=\"_blank\" title=\"\">Moodle</a>\n",
              "</li>\n",
              "<li>\n",
              "<a href=\"https://is.cuni.cz/studium/\" target=\"_blank\" title=\"\">SIS</a>\n",
              "</li>\n",
              "<li>\n",
              "<a href=\"http://karolinka.fsv.cuni.cz\" target=\"_blank\" title=\"\">Karolinka</a>\n",
              "</li>\n",
              "</ul>\n",
              "</div>"
            ]
          },
          "execution_count": 39,
          "metadata": {},
          "output_type": "execute_result"
        }
      ],
      "source": [
        "people[0].soup.find('div', {'class':'col-sm-12'})"
      ]
    },
    {
      "cell_type": "code",
      "execution_count": null,
      "metadata": {
        "id": "xhYqyUyl5hC5",
        "outputId": "7f27f2c2-42ff-48b7-c53a-73d13f69c39c"
      },
      "outputs": [
        {
          "data": {
            "text/plain": [
              "[' Matěj Bajgar M.Sc., DPhil.', 'doc. PhDr. Jozef Baruník Ph.D.']"
            ]
          },
          "execution_count": 27,
          "metadata": {},
          "output_type": "execute_result"
        }
      ],
      "source": [
        "#We still have raw data if needed!\n",
        "[p.soup.find('h2').text for p in people]"
      ]
    },
    {
      "cell_type": "code",
      "execution_count": null,
      "metadata": {
        "id": "5qN62ilW5hC5",
        "outputId": "cc0c3325-ca3e-4a8c-e241-b04c01d6f5e5"
      },
      "outputs": [
        {
          "ename": "AttributeError",
          "evalue": "'Person' object has no attribute 'characteristics'",
          "output_type": "error",
          "traceback": [
            "\u001b[0;31m---------------------------------------------------------------------------\u001b[0m",
            "\u001b[0;31mAttributeError\u001b[0m                            Traceback (most recent call last)",
            "\u001b[0;32m<ipython-input-31-03b2cb7bc620>\u001b[0m in \u001b[0;36m<module>\u001b[0;34m\u001b[0m\n\u001b[0;32m----> 1\u001b[0;31m \u001b[0mpd\u001b[0m\u001b[0;34m.\u001b[0m\u001b[0mDataFrame\u001b[0m\u001b[0;34m(\u001b[0m\u001b[0;34m[\u001b[0m\u001b[0mp\u001b[0m\u001b[0;34m.\u001b[0m\u001b[0mcharacteristics\u001b[0m \u001b[0;32mfor\u001b[0m \u001b[0mp\u001b[0m \u001b[0;32min\u001b[0m \u001b[0mpeople\u001b[0m\u001b[0;34m]\u001b[0m\u001b[0;34m)\u001b[0m\u001b[0;34m\u001b[0m\u001b[0;34m\u001b[0m\u001b[0m\n\u001b[0m",
            "\u001b[0;32m<ipython-input-31-03b2cb7bc620>\u001b[0m in \u001b[0;36m<listcomp>\u001b[0;34m(.0)\u001b[0m\n\u001b[0;32m----> 1\u001b[0;31m \u001b[0mpd\u001b[0m\u001b[0;34m.\u001b[0m\u001b[0mDataFrame\u001b[0m\u001b[0;34m(\u001b[0m\u001b[0;34m[\u001b[0m\u001b[0mp\u001b[0m\u001b[0;34m.\u001b[0m\u001b[0mcharacteristics\u001b[0m \u001b[0;32mfor\u001b[0m \u001b[0mp\u001b[0m \u001b[0;32min\u001b[0m \u001b[0mpeople\u001b[0m\u001b[0;34m]\u001b[0m\u001b[0;34m)\u001b[0m\u001b[0;34m\u001b[0m\u001b[0;34m\u001b[0m\u001b[0m\n\u001b[0m",
            "\u001b[0;31mAttributeError\u001b[0m: 'Person' object has no attribute 'characteristics'"
          ]
        }
      ],
      "source": [
        "pd.DataFrame([p.characteristics for p in people])"
      ]
    },
    {
      "cell_type": "code",
      "execution_count": null,
      "metadata": {
        "id": "EIyhbGuo5hC5"
      },
      "outputs": [],
      "source": [
        ""
      ]
    }
  ],
  "metadata": {
    "kernelspec": {
      "display_name": "Python 3",
      "language": "python",
      "name": "python3"
    },
    "language_info": {
      "codemirror_mode": {
        "name": "ipython",
        "version": 3
      },
      "file_extension": ".py",
      "mimetype": "text/x-python",
      "name": "python",
      "nbconvert_exporter": "python",
      "pygments_lexer": "ipython3",
      "version": "3.8.8"
    },
    "colab": {
      "name": "Kopie sešitu 06_Lecture_WebScraper.ipynb",
      "provenance": []
    }
  },
  "nbformat": 4,
  "nbformat_minor": 0
}